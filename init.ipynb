{
 "metadata": {
  "name": "",
  "signature": "sha256:a0506c4fc5da0abaac69b3d4f0d37af7e29b8246e5796c3ae4cef137ae32dcb9"
 },
 "nbformat": 3,
 "nbformat_minor": 0,
 "worksheets": [
  {
   "cells": [
    {
     "cell_type": "code",
     "collapsed": false,
     "input": [
      "import pulp\n",
      "import numpy as np"
     ],
     "language": "python",
     "metadata": {},
     "outputs": [],
     "prompt_number": 11
    },
    {
     "cell_type": "code",
     "collapsed": false,
     "input": [
      "n = 4\n",
      "m = 2\n",
      "A = np.ones([m, n])\n",
      "A[1][0] = -1\n",
      "b = np.ones(m)\n",
      "print A, b"
     ],
     "language": "python",
     "metadata": {},
     "outputs": [
      {
       "output_type": "stream",
       "stream": "stdout",
       "text": [
        "[[ 1.  1.  1.  1.]\n",
        " [-1.  1.  1.  1.]] [ 1.  1.]\n"
       ]
      }
     ],
     "prompt_number": 22
    },
    {
     "cell_type": "code",
     "collapsed": false,
     "input": [
      "prob = pulp.LpProblem(\"Linear System\", pulp.LpMinimize)\n",
      "pos_vars = pulp.LpVariable.dicts(\"Positive\", range(n), 0)\n",
      "neg_vars = pulp.LpVariable.dicts(\"Negative\", range(n), 0)"
     ],
     "language": "python",
     "metadata": {},
     "outputs": [],
     "prompt_number": 23
    },
    {
     "cell_type": "code",
     "collapsed": false,
     "input": [
      "prob += pulp.lpSum(pos_vars[i] for i in range(n)) + pulp.lpSum(neg_vars[i] for i in range(n))"
     ],
     "language": "python",
     "metadata": {},
     "outputs": [],
     "prompt_number": 24
    },
    {
     "cell_type": "code",
     "collapsed": false,
     "input": [
      "for eq in range(m):\n",
      "    prob += pulp.lpSum((pos_vars[i] - neg_vars[i]) * A[eq][i] for i in range(n)) == b[eq]"
     ],
     "language": "python",
     "metadata": {},
     "outputs": [],
     "prompt_number": 25
    },
    {
     "cell_type": "code",
     "collapsed": false,
     "input": [
      "print prob"
     ],
     "language": "python",
     "metadata": {},
     "outputs": [
      {
       "output_type": "stream",
       "stream": "stdout",
       "text": [
        "Linear System:\n",
        "MINIMIZE\n",
        "1*Negative_0 + 1*Negative_1 + 1*Negative_2 + 1*Negative_3 + 1*Positive_0 + 1*Positive_1 + 1*Positive_2 + 1*Positive_3 + 0\n",
        "SUBJECT TO\n",
        "_C1: - Negative_0 - Negative_1 - Negative_2 - Negative_3 + Positive_0\n",
        " + Positive_1 + Positive_2 + Positive_3 = 1\n",
        "\n",
        "_C2: Negative_0 - Negative_1 - Negative_2 - Negative_3 - Positive_0\n",
        " + Positive_1 + Positive_2 + Positive_3 = 1\n",
        "\n",
        "VARIABLES\n",
        "Negative_0 Continuous\n",
        "Negative_1 Continuous\n",
        "Negative_2 Continuous\n",
        "Negative_3 Continuous\n",
        "Positive_0 Continuous\n",
        "Positive_1 Continuous\n",
        "Positive_2 Continuous\n",
        "Positive_3 Continuous\n",
        "\n"
       ]
      }
     ],
     "prompt_number": 26
    },
    {
     "cell_type": "code",
     "collapsed": false,
     "input": [
      "prob.solve()\n",
      "print pulp.LpStatus[prob.status]\n",
      "x = [pulp.value(pos_vars[i]) - pulp.value(neg_vars[i]) for i in range(n)]\n",
      "print x"
     ],
     "language": "python",
     "metadata": {},
     "outputs": [
      {
       "output_type": "stream",
       "stream": "stdout",
       "text": [
        "Optimal\n",
        "[0.0, 1.0, 0.0, 0.0]\n"
       ]
      }
     ],
     "prompt_number": 36
    },
    {
     "cell_type": "code",
     "collapsed": false,
     "input": [],
     "language": "python",
     "metadata": {},
     "outputs": []
    }
   ],
   "metadata": {}
  }
 ]
}